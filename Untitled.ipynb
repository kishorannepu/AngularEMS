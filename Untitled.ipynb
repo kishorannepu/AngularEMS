{
 "cells": [
  {
   "cell_type": "code",
   "execution_count": 2,
   "metadata": {
    "collapsed": false
   },
   "outputs": [
    {
     "name": "stdout",
     "output_type": "stream",
     "text": [
      "      Time  Value\n",
      "0    00:00   0.18\n",
      "1    00:02   0.18\n",
      "2    00:04   0.18\n",
      "3    00:06   0.18\n",
      "4    00:08   0.18\n",
      "5    00:10   0.18\n",
      "6    00:12   0.18\n",
      "7    00:14   0.18\n",
      "8    00:16   0.18\n",
      "9    00:18   0.18\n",
      "10   00:20   0.18\n",
      "11   00:22   0.18\n",
      "12   00:24   0.18\n",
      "13   00:26   0.18\n",
      "14   00:28   0.18\n",
      "15   00:30   0.18\n",
      "16   00:32   0.18\n",
      "17   00:34   0.18\n",
      "18   00:36   0.18\n",
      "19   00:38   0.13\n",
      "20   00:40   0.13\n",
      "21   00:42   0.18\n",
      "22   00:44   0.18\n",
      "23   00:46   0.13\n",
      "24   00:48   0.13\n",
      "25   00:50   0.18\n",
      "26   00:52   0.18\n",
      "27   00:54   0.18\n",
      "28   00:56   0.18\n",
      "29   00:58   0.18\n",
      "..     ...    ...\n",
      "677  23:00   0.18\n",
      "678  23:02   0.18\n",
      "679  23:04   0.18\n",
      "680  23:06   0.18\n",
      "681  23:08   0.18\n",
      "682  23:10   0.18\n",
      "683  23:12   0.18\n",
      "684  23:14   0.18\n",
      "685  23:16   0.18\n",
      "686  23:18   0.18\n",
      "687  23:20   0.18\n",
      "688  23:22   0.18\n",
      "689  23:24   0.18\n",
      "690  23:26   0.18\n",
      "691  23:28   0.13\n",
      "692  23:30   0.13\n",
      "693  23:32   0.13\n",
      "694  23:34   0.18\n",
      "695  23:36   0.18\n",
      "696  23:38   0.18\n",
      "697  23:40   0.13\n",
      "698  23:42   0.18\n",
      "699  23:44   0.18\n",
      "700  23:46   0.18\n",
      "701  23:48   0.18\n",
      "702  23:50   0.18\n",
      "703  23:52   0.13\n",
      "704  23:54   0.18\n",
      "705  23:56   0.18\n",
      "706  23:58   0.18\n",
      "\n",
      "[707 rows x 2 columns]\n"
     ]
    }
   ],
   "source": [
    "import pandas as pd\n",
    "import \n",
    "data=pd.read_csv(\"/home/indriyn/Downloads/Children A.C. Left(Dec-3-2018).csv\")\n",
    "data.head()\n",
    "print(data)"
   ]
  }
 ],
 "metadata": {
  "anaconda-cloud": {},
  "kernelspec": {
   "display_name": "Python [default]",
   "language": "python",
   "name": "python3"
  },
  "language_info": {
   "codemirror_mode": {
    "name": "ipython",
    "version": 3
   },
   "file_extension": ".py",
   "mimetype": "text/x-python",
   "name": "python",
   "nbconvert_exporter": "python",
   "pygments_lexer": "ipython3",
   "version": "3.5.2"
  }
 },
 "nbformat": 4,
 "nbformat_minor": 1
}
